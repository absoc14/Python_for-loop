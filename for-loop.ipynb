{
 "cells": [
  {
   "cell_type": "code",
   "execution_count": 1,
   "id": "d465895f-39f4-4cf0-8304-663e1e426d35",
   "metadata": {},
   "outputs": [],
   "source": [
    "students = ['Durga','dinesh','kavya','noor','raza','abid','joseph']"
   ]
  },
  {
   "cell_type": "code",
   "execution_count": 2,
   "id": "f3f69410-0c01-4300-b73f-15dc29dbb874",
   "metadata": {},
   "outputs": [
    {
     "name": "stdout",
     "output_type": "stream",
     "text": [
      "['Durga', 'dinesh', 'kavya', 'noor', 'raza', 'abid', 'joseph']\n"
     ]
    }
   ],
   "source": [
    "print(students)"
   ]
  },
  {
   "cell_type": "code",
   "execution_count": 8,
   "id": "0ad69505-c934-46f1-84bb-43eca6af9ebb",
   "metadata": {},
   "outputs": [
    {
     "name": "stdout",
     "output_type": "stream",
     "text": [
      "keep up the good work,Dinesh \n"
     ]
    }
   ],
   "source": [
    "print(f\"keep up the good work,{students[1].title()} \")"
   ]
  },
  {
   "cell_type": "code",
   "execution_count": 13,
   "id": "c671b305-cfcc-4258-b415-aa408536fcb2",
   "metadata": {},
   "outputs": [
    {
     "ename": "AttributeError",
     "evalue": "'list' object has no attribute 'title'",
     "output_type": "error",
     "traceback": [
      "\u001b[1;31m---------------------------------------------------------------------------\u001b[0m",
      "\u001b[1;31mAttributeError\u001b[0m                            Traceback (most recent call last)",
      "Cell \u001b[1;32mIn[13], line 1\u001b[0m\n\u001b[1;32m----> 1\u001b[0m \u001b[38;5;28mprint\u001b[39m(\u001b[38;5;124mf\u001b[39m\u001b[38;5;124m\"\u001b[39m\u001b[38;5;124mkeep up the good work,\u001b[39m\u001b[38;5;132;01m{\u001b[39;00mstudents\u001b[38;5;241m.\u001b[39mtitle()\u001b[38;5;132;01m}\u001b[39;00m\u001b[38;5;124m \u001b[39m\u001b[38;5;124m\"\u001b[39m)\n",
      "\u001b[1;31mAttributeError\u001b[0m: 'list' object has no attribute 'title'"
     ]
    }
   ],
   "source": [
    "print(f\"keep up the good work,{students.title()} \")"
   ]
  },
  {
   "cell_type": "code",
   "execution_count": 12,
   "id": "66f7837d-3931-4b59-ab9a-5514e4e5735b",
   "metadata": {},
   "outputs": [
    {
     "name": "stdout",
     "output_type": "stream",
     "text": [
      "Durga\n",
      "dinesh\n",
      "kavya\n",
      "noor\n",
      "raza\n",
      "abid\n",
      "joseph\n"
     ]
    }
   ],
   "source": [
    "for a in students:\n",
    "    print (a)"
   ]
  },
  {
   "cell_type": "code",
   "execution_count": 30,
   "id": "af2fa292-ed1e-4758-953d-8fd6b45f057a",
   "metadata": {},
   "outputs": [
    {
     "name": "stdout",
     "output_type": "stream",
     "text": [
      "Keep up the good work, Durga\n",
      "I'm waiting to receive your submission of today\n",
      "\n",
      "Keep up the good work, Dinesh\n",
      "I'm waiting to receive your submission of today\n",
      "\n",
      "Keep up the good work, Kavya\n",
      "I'm waiting to receive your submission of today\n",
      "\n",
      "Keep up the good work, Noor\n",
      "I'm waiting to receive your submission of today\n",
      "\n",
      "Keep up the good work, Raza\n",
      "I'm waiting to receive your submission of today\n",
      "\n",
      "Keep up the good work, Abid\n",
      "I'm waiting to receive your submission of today\n",
      "\n",
      "Keep up the good work, Joseph\n",
      "I'm waiting to receive your submission of today\n",
      "\n",
      "Thanks for attending the session\n"
     ]
    }
   ],
   "source": [
    "for a in students:\n",
    "    print(f\"Keep up the good work, {a.title()}\")\n",
    "    print(\"I'm waiting to receive your submission of today\\n\")\n",
    "print(\"Thanks for attending the session\"\n",
    "     )"
   ]
  },
  {
   "cell_type": "code",
   "execution_count": null,
   "id": "314a4b94-9b3c-44a0-8f8c-90dd43617781",
   "metadata": {},
   "outputs": [],
   "source": []
  }
 ],
 "metadata": {
  "kernelspec": {
   "display_name": "Python [conda env:base] *",
   "language": "python",
   "name": "conda-base-py"
  },
  "language_info": {
   "codemirror_mode": {
    "name": "ipython",
    "version": 3
   },
   "file_extension": ".py",
   "mimetype": "text/x-python",
   "name": "python",
   "nbconvert_exporter": "python",
   "pygments_lexer": "ipython3",
   "version": "3.13.5"
  }
 },
 "nbformat": 4,
 "nbformat_minor": 5
}
